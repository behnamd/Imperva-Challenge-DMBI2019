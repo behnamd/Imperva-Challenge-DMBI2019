{
 "cells": [
  {
   "cell_type": "code",
   "execution_count": 1,
   "metadata": {},
   "outputs": [],
   "source": [
    "import pandas as pd"
   ]
  },
  {
   "cell_type": "code",
   "execution_count": 2,
   "metadata": {},
   "outputs": [],
   "source": [
    "from pathlib import Path"
   ]
  },
  {
   "cell_type": "code",
   "execution_count": 3,
   "metadata": {},
   "outputs": [],
   "source": [
    "data_path = Path(\"Data\")"
   ]
  },
  {
   "cell_type": "code",
   "execution_count": 4,
   "metadata": {},
   "outputs": [
    {
     "data": {
      "text/plain": [
       "[PosixPath('Data/dmbi-2019-datahack-device-fingerprinting-imperva.zip'),\n",
       " PosixPath('Data/train_data.zip'),\n",
       " PosixPath('Data/auxiliary_train.zip'),\n",
       " PosixPath('Data/test_set.zip'),\n",
       " PosixPath('Data/test_set.csv'),\n",
       " PosixPath('Data/train_data.csv'),\n",
       " PosixPath('Data/auxilary_training_data.csv')]"
      ]
     },
     "execution_count": 4,
     "metadata": {},
     "output_type": "execute_result"
    }
   ],
   "source": [
    "list(data_path.iterdir())"
   ]
  },
  {
   "cell_type": "code",
   "execution_count": 5,
   "metadata": {},
   "outputs": [],
   "source": [
    "train_path = data_path/'train_data.csv'"
   ]
  },
  {
   "cell_type": "code",
   "execution_count": 6,
   "metadata": {},
   "outputs": [
    {
     "name": "stderr",
     "output_type": "stream",
     "text": [
      "/storage/homedir/dima/miniconda3/envs/promed/lib/python3.6/site-packages/IPython/core/interactiveshell.py:3049: DtypeWarning: Columns (13,23,50,51,58,89,93,106,131,136,139,140,141,142,143,144,145,228,229,239,240,241,242,243,244,245,247,249,256,257,258,259,260,261,262,263,265,267,268,269,270,271,272,273,274,275,276,277,278,279,280,281,282,283,284,285,286,287,288,289,290,291,292,293,294,295,296,297,298,299,300,301,302,303,304,305,306,307,308,309,310,311,312,313,314,315,316,317,318,319,320,321,325,326,327,328,329,330,331,332,333,334,335,336,337,338,339,340,341,351,352,353,354,355,366,367,368,369,370,371,372,373,374,375,387,388,390,391,392,393,394,395,396,397,401,404,408,409,410,411,412,413,414,415,416,417,419,420,421,423,424,425,426,427,429,435,436,443,444,446,447,454,455,457,458,459,460,461,462,463,465,467,468,470,471,472,473,474,476,477,478,479,480,481,483,484,485,486,487,488,489,490,491,492,493,494,495,496,497,498,499,500,501,502,504,506,508,510,512,513,514,515,516,517,519,520,523,524,527,528,529,530,531,532,533,534,535,536,537,538,549,550,552,553,566,568,569,570,571,572,573,574,575,576,577,578,579,580,581,582,583,584,585,586,587,588,589,590,591,592,593,594,596,598,599,600,601,602,603,604,606,610,611,612,613,614,622,623,624,625,626,627,628,629,630,631,632,633,634,635,636,637,638,639,640,641,642,643,644,645,646,647,648,649,650,651,653,655,657,659,670,671,672,673,674,681,682,684,685,688,689,691,692,693,694,696,697,698,699,701,702,703,704,705,706,718,719,720,721,722,779) have mixed types. Specify dtype option on import or set low_memory=False.\n",
      "  interactivity=interactivity, compiler=compiler, result=result)\n"
     ]
    }
   ],
   "source": [
    "traind_df = pd.read_csv(train_path)"
   ]
  },
  {
   "cell_type": "code",
   "execution_count": null,
   "metadata": {},
   "outputs": [],
   "source": [
    "test_df = pd.read_csv(data_path/'test_set.csv')"
   ]
  },
  {
   "cell_type": "code",
   "execution_count": 124,
   "metadata": {},
   "outputs": [
    {
     "name": "stderr",
     "output_type": "stream",
     "text": [
      "/storage/homedir/dima/miniconda3/envs/promed/lib/python3.6/site-packages/IPython/core/interactiveshell.py:3049: DtypeWarning: Columns (23,93,106,131,136,228,229,261,262,264,266,267,268,269,270,271,272,273,274,275,276,277,278,279,280,281,282,283,284,285,286,287,288,289,290,291,292,293,294,295,296,297,298,299,300,301,302,303,304,305,306,307,308,309,310,311,312,313,314,315,316,317,318,319,320,324,325,326,327,328,329,331,332,333,334,335,336,337,338,339,340,365,366,368,369,370,371,373,374,386,387,389,390,391,392,393,394,395,396,400,403,407,408,409,410,411,412,413,414,415,416,418,419,420,422,423,424,425,426,428,434,435,453,454,456,457,458,459,460,461,462,464,466,467,469,470,471,472,473,475,476,477,478,479,480,482,483,484,485,486,487,488,489,490,491,492,493,494,495,496,497,498,499,500,501,503,505,507,509,511,512,513,514,515,516,518,519,522,523,526,548,549,551,552,565,567,568,569,570,571,572,573,574,575,576,577,583,584,585,587,588,589,590,592,593,595,597,598,599,600,602,603,605,609,610,611,612,613,626,627,628,629,630,631,632,633,634,635,636,637,638,639,640,641,642,643,644,645,717,718,720,721,778,801,836,871,884,909,914,1006,1007,1039,1040,1042,1044,1045,1046,1047,1048,1049,1050,1051,1052,1053,1054,1055,1056,1057,1058,1059,1060,1061,1062,1063,1064,1065,1066,1067,1068,1069,1070,1071,1072,1073,1074,1075,1076,1077,1078,1079,1080,1081,1082,1083,1084,1085,1086,1087,1088,1089,1090,1091,1092,1093,1094,1095,1096,1097,1098,1102,1103,1104,1105,1106,1114,1115,1116,1117,1118,1128,1129,1130,1131,1132,1143,1144,1145,1146,1147,1148,1149,1150,1151,1152,1164,1165,1167,1168,1169,1170,1171,1172,1173,1174,1178,1181,1185,1186,1187,1188,1189,1190,1191,1192,1193,1194,1196,1197,1198,1200,1201,1202,1203,1204,1206,1212,1213,1220,1221,1223,1224,1231,1232,1234,1235,1236,1237,1238,1239,1240,1242,1244,1245,1247,1248,1249,1250,1251,1253,1254,1255,1256,1257,1258,1260,1261,1262,1263,1264,1265,1266,1267,1268,1269,1270,1271,1272,1273,1274,1275,1276,1277,1278,1290,1291,1292,1293,1294,1296,1297,1300,1301,1304,1305,1306,1307,1308,1309,1310,1311,1312,1313,1314,1315,1326,1327,1329,1330,1343,1345,1346,1347,1348,1349,1350,1351,1352,1353,1354,1355,1356,1357,1358,1359,1360,1361,1362,1363,1364,1365,1366,1367,1368,1369,1370,1371,1375,1377,1378,1379,1380,1381,1383,1387,1388,1390,1391,1399,1400,1401,1402,1403,1404,1405,1406,1407,1408,1409,1410,1411,1412,1413,1414,1415,1416,1417,1418,1419,1420,1421,1422,1423,1424,1425,1426,1427,1428,1430,1432,1434,1436,1495,1496,1497,1498,1499,1556) have mixed types. Specify dtype option on import or set low_memory=False.\n",
      "  interactivity=interactivity, compiler=compiler, result=result)\n"
     ]
    }
   ],
   "source": [
    "val_df = pd.read_csv(data_path/'auxilary_training_data.csv', nrows=100000)"
   ]
  },
  {
   "cell_type": "code",
   "execution_count": 7,
   "metadata": {},
   "outputs": [],
   "source": [
    "df = (traind_df[\"user.id\"]==traind_df[\"user.id.1\"])"
   ]
  },
  {
   "cell_type": "code",
   "execution_count": 9,
   "metadata": {},
   "outputs": [
    {
     "data": {
      "text/plain": [
       "122454"
      ]
     },
     "execution_count": 9,
     "metadata": {},
     "output_type": "execute_result"
    }
   ],
   "source": [
    "df.sum()"
   ]
  },
  {
   "cell_type": "code",
   "execution_count": 17,
   "metadata": {},
   "outputs": [
    {
     "data": {
      "text/plain": [
       "780"
      ]
     },
     "execution_count": 17,
     "metadata": {},
     "output_type": "execute_result"
    }
   ],
   "source": [
    "len(traind_df.columns)"
   ]
  },
  {
   "cell_type": "code",
   "execution_count": 11,
   "metadata": {},
   "outputs": [
    {
     "name": "stderr",
     "output_type": "stream",
     "text": [
      "/storage/homedir/dima/miniconda3/envs/promed/lib/python3.6/site-packages/IPython/core/interactiveshell.py:3049: DtypeWarning: Columns (92,105,130,227,228,260,261,263,265,266,267,268,269,270,271,272,273,274,275,276,277,278,279,280,281,282,283,284,285,286,287,288,289,290,291,292,293,294,295,296,297,298,299,300,301,302,303,304,315,316,317,318,319,323,324,325,326,327,335,336,337,338,339,343,344,346,347,348,349,350,351,352,353,354,355,356,357,358,359,360,361,362,363,364,365,366,367,368,369,370,371,372,373,385,386,388,389,409,410,411,412,413,433,434,441,442,444,445,452,453,455,456,463,465,466,468,469,470,478,479,481,482,483,494,495,496,497,498,499,511,512,513,514,515,531,547,548,550,551,571,608,609,610,611,612,711,712,713,714,715,716,717,718,719,720,870,883,908,1005,1006,1038,1039,1041,1043,1044,1045,1046,1047,1048,1049,1050,1051,1052,1053,1054,1055,1056,1057,1058,1059,1060,1061,1062,1063,1064,1065,1066,1067,1068,1069,1070,1071,1072,1073,1074,1075,1076,1077,1078,1079,1080,1081,1082,1093,1094,1095,1096,1097,1101,1102,1103,1104,1105,1106,1113,1114,1115,1116,1117,1121,1122,1124,1125,1126,1127,1128,1129,1130,1131,1132,1133,1134,1135,1136,1137,1138,1139,1140,1141,1142,1143,1144,1145,1146,1147,1148,1149,1150,1151,1163,1164,1166,1167,1187,1188,1189,1190,1191,1211,1212,1219,1220,1222,1223,1230,1231,1233,1234,1241,1243,1244,1246,1247,1248,1256,1257,1259,1260,1261,1272,1273,1274,1275,1276,1277,1289,1290,1291,1292,1293,1309,1325,1326,1328,1329,1349,1386,1387,1388,1389,1390,1489,1490,1491,1492,1493,1494,1495,1496,1497,1498) have mixed types. Specify dtype option on import or set low_memory=False.\n",
      "  interactivity=interactivity, compiler=compiler, result=result)\n"
     ]
    }
   ],
   "source": []
  },
  {
   "cell_type": "code",
   "execution_count": 14,
   "metadata": {},
   "outputs": [
    {
     "data": {
      "text/plain": [
       "778.0"
      ]
     },
     "execution_count": 14,
     "metadata": {},
     "output_type": "execute_result"
    }
   ],
   "source": [
    "len(test_df.columns)/2"
   ]
  },
  {
   "cell_type": "code",
   "execution_count": 33,
   "metadata": {},
   "outputs": [
    {
     "data": {
      "text/plain": [
       "4.0     78233\n",
       "8.0     27084\n",
       "2.0      2766\n",
       "12.0     1237\n",
       "6.0       547\n",
       "1.0       544\n",
       "16.0      266\n",
       "3.0       102\n",
       "24.0       37\n",
       "20.0       35\n",
       "32.0       23\n",
       "40.0        8\n",
       "64.0        6\n",
       "5.0         2\n",
       "10.0        2\n",
       "36.0        2\n",
       "28.0        2\n",
       "Name: Basic.result.hardwareConcurrency, dtype: int64"
      ]
     },
     "execution_count": 33,
     "metadata": {},
     "output_type": "execute_result"
    }
   ],
   "source": [
    "traind_df[\"Basic.result.hardwareConcurrency\"].value_counts()"
   ]
  },
  {
   "cell_type": "code",
   "execution_count": null,
   "metadata": {},
   "outputs": [],
   "source": [
    "delete_col = []\n",
    "for c in traind_df.columns:\n",
    "    if len(traind_df[c].unique()) == 1:\n",
    "        delete_col.append(c)"
   ]
  },
  {
   "cell_type": "code",
   "execution_count": 40,
   "metadata": {},
   "outputs": [
    {
     "data": {
      "text/plain": [
       "1"
      ]
     },
     "execution_count": 40,
     "metadata": {},
     "output_type": "execute_result"
    }
   ],
   "source": [
    "len(traind_df[\"BrowserPlugins.REST Tester.description\"].unique())"
   ]
  },
  {
   "cell_type": "code",
   "execution_count": 26,
   "metadata": {},
   "outputs": [],
   "source": [
    "from collections import Counter"
   ]
  },
  {
   "cell_type": "code",
   "execution_count": 27,
   "metadata": {},
   "outputs": [
    {
     "data": {
      "text/plain": [
       "Counter({dtype('O'): 402,\n",
       "         dtype('bool'): 34,\n",
       "         dtype('int64'): 9,\n",
       "         dtype('float64'): 335})"
      ]
     },
     "execution_count": 27,
     "metadata": {},
     "output_type": "execute_result"
    }
   ],
   "source": [
    "Counter(types)"
   ]
  },
  {
   "cell_type": "code",
   "execution_count": 50,
   "metadata": {},
   "outputs": [],
   "source": [
    "traind_df = traind_df.drop(delete_col,axis=1)"
   ]
  },
  {
   "cell_type": "code",
   "execution_count": 51,
   "metadata": {},
   "outputs": [
    {
     "data": {
      "text/plain": [
       "616"
      ]
     },
     "execution_count": 51,
     "metadata": {},
     "output_type": "execute_result"
    }
   ],
   "source": [
    "len(traind_df.columns)"
   ]
  },
  {
   "cell_type": "code",
   "execution_count": 123,
   "metadata": {},
   "outputs": [
    {
     "name": "stdout",
     "output_type": "stream",
     "text": [
      "Approximate neighbours with Jaccard similarity > 0.9 ['m3', 'm2']\n",
      "Approximate neighbours with Jaccard similarity > 0.9 ['m5']\n"
     ]
    }
   ],
   "source": [
    "from datasketch import MinHash, MinHashLSH\n",
    "HASH_SIZE = 128\n",
    "set1 = traind_df.iloc[0].values\n",
    "set2 = traind_df.iloc[1].values\n",
    "set3 = traind_df.iloc[2].values\n",
    "set4 = traind_df.iloc[20000].values\n",
    "set5 = traind_df.iloc[20001].values\n",
    "\n",
    "m1 = MinHash(num_perm=HASH_SIZE)\n",
    "m2 = MinHash(num_perm=HASH_SIZE)\n",
    "m3 = MinHash(num_perm=HASH_SIZE)\n",
    "m4 = MinHash(num_perm=HASH_SIZE)\n",
    "m5 = MinHash(num_perm=HASH_SIZE)\n",
    "\n",
    "for d in set1:\n",
    "    m1.update(str(d).encode('utf8'))\n",
    "for d in set2:\n",
    "    m2.update(str(d).encode('utf8'))\n",
    "for d in set3:\n",
    "    m3.update(str(d).encode('utf8'))\n",
    "for d in set4:\n",
    "    m4.update(str(d).encode('utf8'))\n",
    "for d in set5:\n",
    "    m5.update(str(d).encode('utf8')) \n",
    "# Create LSH index\n",
    "lsh = MinHashLSH(threshold=0.5, num_perm=HASH_SIZE)\n",
    "lsh.insert(\"m2\", m2)\n",
    "lsh.insert(\"m3\", m3)\n",
    "lsh.insert(\"m5\", m5)\n",
    "result = lsh.query(m1)\n",
    "print(\"Approximate neighbours with Jaccard similarity > 0.9\", result)\n",
    "result = lsh.query(m4)\n",
    "print(\"Approximate neighbours with Jaccard similarity > 0.9\", result)"
   ]
  },
  {
   "cell_type": "code",
   "execution_count": 118,
   "metadata": {},
   "outputs": [],
   "source": [
    "m = MinHash(num_perm=1280)\n",
    "\n",
    "for d in set1:\n",
    "    m.update(str(d).encode('utf8'))"
   ]
  },
  {
   "cell_type": "code",
   "execution_count": 119,
   "metadata": {},
   "outputs": [
    {
     "data": {
      "text/plain": [
       "1280"
      ]
     },
     "execution_count": 119,
     "metadata": {},
     "output_type": "execute_result"
    }
   ],
   "source": [
    "len(m.hashvalues)"
   ]
  },
  {
   "cell_type": "code",
   "execution_count": 80,
   "metadata": {},
   "outputs": [
    {
     "name": "stdout",
     "output_type": "stream",
     "text": [
      "Approximate neighbours with Jaccard similarity > 0.5 ['m2']\n"
     ]
    }
   ],
   "source": [
    "from datasketch import MinHash, MinHashLSH\n",
    "\n",
    "set1 = set(['minhash', 'is', 'a', 'probabilistic', 'data', 'structure', 'for',\n",
    "            'estimating', 'the', 'similarity', 'between', 'datasets'])\n",
    "set2 = set(['minhash', 'is', 'a', 'probability', 'data', 'structure', 'for',\n",
    "            'estimating', 'the', 'similarity', 'between', 'documents'])\n",
    "set3 = set(['minhash', 'is', 'probability', 'data', 'structure', 'for',\n",
    "            'estimating', 'the', 'similarity', 'between', 'documents'])\n",
    "\n",
    "m1 = MinHash(num_perm=128)\n",
    "m2 = MinHash(num_perm=128)\n",
    "m3 = MinHash(num_perm=128)\n",
    "for d in set1:\n",
    "    m1.update(d.encode('utf8'))\n",
    "for d in set2:\n",
    "    m2.update(d.encode('utf8'))\n",
    "for d in set3:\n",
    "    m3.update(d.encode('utf8'))\n",
    "\n",
    "# Create LSH index\n",
    "lsh = MinHashLSH(threshold=0.5, num_perm=128)\n",
    "lsh.insert(\"m2\", m2)\n",
    "lsh.insert(\"m3\", m3)\n",
    "result = lsh.query(m1)\n",
    "print(\"Approximate neighbours with Jaccard similarity > 0.5\", result)"
   ]
  },
  {
   "cell_type": "code",
   "execution_count": 83,
   "metadata": {},
   "outputs": [
    {
     "name": "stdout",
     "output_type": "stream",
     "text": [
      "True\n",
      "True\n",
      "Sets with containment > 0.8:\n",
      "m3\n",
      "m2\n"
     ]
    }
   ],
   "source": [
    "from datasketch import MinHashLSHEnsemble, MinHash\n",
    "\n",
    "\n",
    "set1 = traind_df.iloc[0].values\n",
    "set2 = traind_df.iloc[1].values\n",
    "set3 = traind_df.iloc[2].values\n",
    "set3 = traind_df.iloc[200].values\n",
    "set4 = traind_df.iloc[201].values\n",
    "\n",
    "m1 = MinHash(num_perm=128)\n",
    "m2 = MinHash(num_perm=128)\n",
    "m3 = MinHash(num_perm=128)\n",
    "m4 = MinHash(num_perm=128)\n",
    "\n",
    "for d in set1:\n",
    "    m1.update(str(d).encode('utf8'))\n",
    "for d in set2:\n",
    "    m2.update(str(d).encode('utf8'))\n",
    "for d in set3:\n",
    "    m3.update(str(d).encode('utf8'))\n",
    "for d in set4:\n",
    "    m4.update(str(d).encode('utf8'))\n",
    "\n",
    "# Create an LSH Ensemble index with threshold and number of partition\n",
    "# settings.\n",
    "lshensemble = MinHashLSHEnsemble(threshold=0.8, num_perm=128,\n",
    "    num_part=32)\n",
    "\n",
    "# Index takes an iterable of (key, minhash, size)\n",
    "lshensemble.index([(\"m2\", m2, len(set2)), (\"m3\", m3, len(set3))])\n",
    "\n",
    "# Check for membership using the key\n",
    "print(\"m2\" in lshensemble)\n",
    "print(\"m3\" in lshensemble)\n",
    "\n",
    "# Using m1 as the query, get an result iterator\n",
    "print(\"Sets with containment > 0.8:\")\n",
    "for key in lshensemble.query(m1, len(set1)):\n",
    "    print(key)"
   ]
  },
  {
   "cell_type": "code",
   "execution_count": null,
   "metadata": {},
   "outputs": [],
   "source": []
  }
 ],
 "metadata": {
  "kernelspec": {
   "display_name": "Python [conda env:promed]",
   "language": "python",
   "name": "conda-env-promed-py"
  },
  "language_info": {
   "codemirror_mode": {
    "name": "ipython",
    "version": 3
   },
   "file_extension": ".py",
   "mimetype": "text/x-python",
   "name": "python",
   "nbconvert_exporter": "python",
   "pygments_lexer": "ipython3",
   "version": "3.6.8"
  }
 },
 "nbformat": 4,
 "nbformat_minor": 4
}
